{
  "nbformat": 4,
  "nbformat_minor": 0,
  "metadata": {
    "colab": {
      "name": " Generate_homo_random_1.ipynb",
      "provenance": [],
      "authorship_tag": "ABX9TyPLA2/InA2xqm5CWgAOS6ZP",
      "include_colab_link": true
    },
    "kernelspec": {
      "name": "python3",
      "display_name": "Python 3"
    },
    "language_info": {
      "name": "python"
    }
  },
  "cells": [
    {
      "cell_type": "markdown",
      "metadata": {
        "id": "view-in-github",
        "colab_type": "text"
      },
      "source": [
        "<a href=\"https://colab.research.google.com/github/iam-fern/Generate_homo_random_1/blob/main/Generate_homo_random_1.ipynb\" target=\"_parent\"><img src=\"https://colab.research.google.com/assets/colab-badge.svg\" alt=\"Open In Colab\"/></a>"
      ]
    },
    {
      "cell_type": "code",
      "metadata": {
        "id": "gmT3sYdRem_o",
        "colab": {
          "base_uri": "https://localhost:8080/"
        },
        "outputId": "6044a217-4502-49fd-f377-4015d8c3900d"
      },
      "source": [
        "import pandas as pd\n",
        "import numpy as np\n",
        "import scipy as sp\n",
        "import matplotlib.pyplot as plt\n",
        "from scipy.stats import norm\n",
        "from numpy.random import normal\n",
        "import statistics\n",
        "import statistics as stats\n",
        "import scipy.stats as ss\n",
        "from scipy import stats\n",
        "import scipy.stats as stats\n",
        "import time\n",
        "import statsmodels.api as sm\n",
        "%matplotlib inline\n",
        "from google.colab import files"
      ],
      "execution_count": 1,
      "outputs": [
        {
          "output_type": "stream",
          "name": "stderr",
          "text": [
            "/usr/local/lib/python3.7/dist-packages/statsmodels/tools/_testing.py:19: FutureWarning: pandas.util.testing is deprecated. Use the functions in the public API at pandas.testing instead.\n",
            "  import pandas.util.testing as tm\n"
          ]
        }
      ]
    },
    {
      "cell_type": "code",
      "metadata": {
        "colab": {
          "base_uri": "https://localhost:8080/",
          "height": 423
        },
        "id": "-_RZ0rQ6em0f",
        "outputId": "c7ddc29c-09b2-413a-d8d3-b7d2bf9d96eb"
      },
      "source": [
        "sp.random.seed(314157)\n",
        "data = pd.DataFrame({\"X1\" : sp.random.uniform(20, 100, 500000),\n",
        "                     \"X2\" : sp.random.uniform(20, 100, 500000),\n",
        "                     \"X3\" : sp.random.uniform(20, 100, 500000)})\n",
        "data"
      ],
      "execution_count": 2,
      "outputs": [
        {
          "output_type": "execute_result",
          "data": {
            "text/html": [
              "<div>\n",
              "<style scoped>\n",
              "    .dataframe tbody tr th:only-of-type {\n",
              "        vertical-align: middle;\n",
              "    }\n",
              "\n",
              "    .dataframe tbody tr th {\n",
              "        vertical-align: top;\n",
              "    }\n",
              "\n",
              "    .dataframe thead th {\n",
              "        text-align: right;\n",
              "    }\n",
              "</style>\n",
              "<table border=\"1\" class=\"dataframe\">\n",
              "  <thead>\n",
              "    <tr style=\"text-align: right;\">\n",
              "      <th></th>\n",
              "      <th>X1</th>\n",
              "      <th>X2</th>\n",
              "      <th>X3</th>\n",
              "    </tr>\n",
              "  </thead>\n",
              "  <tbody>\n",
              "    <tr>\n",
              "      <th>0</th>\n",
              "      <td>68.854520</td>\n",
              "      <td>60.657374</td>\n",
              "      <td>85.486277</td>\n",
              "    </tr>\n",
              "    <tr>\n",
              "      <th>1</th>\n",
              "      <td>57.329540</td>\n",
              "      <td>52.565442</td>\n",
              "      <td>91.356163</td>\n",
              "    </tr>\n",
              "    <tr>\n",
              "      <th>2</th>\n",
              "      <td>45.215694</td>\n",
              "      <td>67.829610</td>\n",
              "      <td>53.559720</td>\n",
              "    </tr>\n",
              "    <tr>\n",
              "      <th>3</th>\n",
              "      <td>69.375325</td>\n",
              "      <td>89.227027</td>\n",
              "      <td>29.890049</td>\n",
              "    </tr>\n",
              "    <tr>\n",
              "      <th>4</th>\n",
              "      <td>87.837297</td>\n",
              "      <td>47.691935</td>\n",
              "      <td>88.033699</td>\n",
              "    </tr>\n",
              "    <tr>\n",
              "      <th>...</th>\n",
              "      <td>...</td>\n",
              "      <td>...</td>\n",
              "      <td>...</td>\n",
              "    </tr>\n",
              "    <tr>\n",
              "      <th>499995</th>\n",
              "      <td>22.978037</td>\n",
              "      <td>98.682652</td>\n",
              "      <td>61.774236</td>\n",
              "    </tr>\n",
              "    <tr>\n",
              "      <th>499996</th>\n",
              "      <td>22.501883</td>\n",
              "      <td>74.015803</td>\n",
              "      <td>31.770244</td>\n",
              "    </tr>\n",
              "    <tr>\n",
              "      <th>499997</th>\n",
              "      <td>38.845831</td>\n",
              "      <td>81.464248</td>\n",
              "      <td>50.832347</td>\n",
              "    </tr>\n",
              "    <tr>\n",
              "      <th>499998</th>\n",
              "      <td>31.189864</td>\n",
              "      <td>25.591015</td>\n",
              "      <td>48.606149</td>\n",
              "    </tr>\n",
              "    <tr>\n",
              "      <th>499999</th>\n",
              "      <td>61.990456</td>\n",
              "      <td>91.407415</td>\n",
              "      <td>21.626448</td>\n",
              "    </tr>\n",
              "  </tbody>\n",
              "</table>\n",
              "<p>500000 rows × 3 columns</p>\n",
              "</div>"
            ],
            "text/plain": [
              "               X1         X2         X3\n",
              "0       68.854520  60.657374  85.486277\n",
              "1       57.329540  52.565442  91.356163\n",
              "2       45.215694  67.829610  53.559720\n",
              "3       69.375325  89.227027  29.890049\n",
              "4       87.837297  47.691935  88.033699\n",
              "...           ...        ...        ...\n",
              "499995  22.978037  98.682652  61.774236\n",
              "499996  22.501883  74.015803  31.770244\n",
              "499997  38.845831  81.464248  50.832347\n",
              "499998  31.189864  25.591015  48.606149\n",
              "499999  61.990456  91.407415  21.626448\n",
              "\n",
              "[500000 rows x 3 columns]"
            ]
          },
          "metadata": {},
          "execution_count": 2
        }
      ]
    },
    {
      "cell_type": "code",
      "metadata": {
        "id": "LTTHjzBxemtM"
      },
      "source": [
        "X1 = data[\"X1\"]\n",
        "X2 = data[\"X2\"]\n",
        "X3 = data[\"X3\"]\n",
        "\n",
        "new_data = pd.DataFrame({\"X1\" : data[\"X1\"],\n",
        "                         \"X2\" : data[\"X2\"],\n",
        "                         \"X3\" : data[\"X3\"],\n",
        "                         \"e\"  : np.random.normal(0, 1, 500000)})"
      ],
      "execution_count": 41,
      "outputs": []
    },
    {
      "cell_type": "code",
      "metadata": {
        "colab": {
          "base_uri": "https://localhost:8080/",
          "height": 17
        },
        "id": "JRIfeouAe1_E",
        "outputId": "4f4cce3f-0f23-4327-9c27-56f08e6703a1"
      },
      "source": [
        "new_data.to_csv('data_var3_random_1.csv')\n",
        "files.download('data_var3_random_1.csv')"
      ],
      "execution_count": 42,
      "outputs": [
        {
          "output_type": "display_data",
          "data": {
            "application/javascript": [
              "\n",
              "    async function download(id, filename, size) {\n",
              "      if (!google.colab.kernel.accessAllowed) {\n",
              "        return;\n",
              "      }\n",
              "      const div = document.createElement('div');\n",
              "      const label = document.createElement('label');\n",
              "      label.textContent = `Downloading \"${filename}\": `;\n",
              "      div.appendChild(label);\n",
              "      const progress = document.createElement('progress');\n",
              "      progress.max = size;\n",
              "      div.appendChild(progress);\n",
              "      document.body.appendChild(div);\n",
              "\n",
              "      const buffers = [];\n",
              "      let downloaded = 0;\n",
              "\n",
              "      const channel = await google.colab.kernel.comms.open(id);\n",
              "      // Send a message to notify the kernel that we're ready.\n",
              "      channel.send({})\n",
              "\n",
              "      for await (const message of channel.messages) {\n",
              "        // Send a message to notify the kernel that we're ready.\n",
              "        channel.send({})\n",
              "        if (message.buffers) {\n",
              "          for (const buffer of message.buffers) {\n",
              "            buffers.push(buffer);\n",
              "            downloaded += buffer.byteLength;\n",
              "            progress.value = downloaded;\n",
              "          }\n",
              "        }\n",
              "      }\n",
              "      const blob = new Blob(buffers, {type: 'application/binary'});\n",
              "      const a = document.createElement('a');\n",
              "      a.href = window.URL.createObjectURL(blob);\n",
              "      a.download = filename;\n",
              "      div.appendChild(a);\n",
              "      a.click();\n",
              "      div.remove();\n",
              "    }\n",
              "  "
            ],
            "text/plain": [
              "<IPython.core.display.Javascript object>"
            ]
          },
          "metadata": {}
        },
        {
          "output_type": "display_data",
          "data": {
            "application/javascript": [
              "download(\"download_f26d7f90-66ec-4e42-b458-86741735a860\", \"data_var3_random_1.csv\", 40359392)"
            ],
            "text/plain": [
              "<IPython.core.display.Javascript object>"
            ]
          },
          "metadata": {}
        }
      ]
    },
    {
      "cell_type": "code",
      "metadata": {
        "colab": {
          "base_uri": "https://localhost:8080/",
          "height": 455
        },
        "id": "3-BDMjSbe136",
        "outputId": "b3e37bf1-9a53-469b-ff99-95236f196247"
      },
      "source": [
        "n=250\n",
        "rep=0\n",
        "table_data_all=pd.DataFrame({\"rep\":[]})\n",
        "data_copy=new_data.copy()\n",
        "while not data_copy.empty:\n",
        "    #=========================\n",
        "    if data_copy.shape[0]>n:\n",
        "        index=data_copy.sample(n).index\n",
        "        data_new=data_copy.loc[index,:].reset_index(drop=True)\n",
        "        data_copy=data_copy.drop(index)\n",
        "    else:\n",
        "        data_new=data_copy.copy().reset_index(drop=True)\n",
        "        data_copy=pd.DataFrame({\"\":[]})\n",
        "    #=========================\n",
        "\n",
        "    table_data = pd.DataFrame({\"x1\" : data_new[\"X1\"],\n",
        "                               \"x2\" : data_new[\"X2\"],\n",
        "                               \"x3\" : data_new[\"X3\"],\n",
        "                               \"e\"  : data_new[\"e\"]})\n",
        "  \n",
        "\n",
        "    table_data[\"Y\"] = 10 + table_data[\"x1\"] + table_data[\"x2\"] + table_data[\"x3\"] + table_data[\"e\"]\n",
        "    \n",
        "    table_data=table_data.reset_index(drop=True).reset_index()\n",
        "    table_data[\"rep\"]=rep\n",
        "    table_data_all=pd.concat([table_data_all,table_data],axis=0,ignore_index=True,sort=False)\n",
        "    rep+=1\n",
        "    if rep==1000:\n",
        "      break\n",
        "table_data_all=table_data_all.set_index([\"rep\", \"index\"])\n",
        "table_data_all"
      ],
      "execution_count": 55,
      "outputs": [
        {
          "output_type": "execute_result",
          "data": {
            "text/html": [
              "<div>\n",
              "<style scoped>\n",
              "    .dataframe tbody tr th:only-of-type {\n",
              "        vertical-align: middle;\n",
              "    }\n",
              "\n",
              "    .dataframe tbody tr th {\n",
              "        vertical-align: top;\n",
              "    }\n",
              "\n",
              "    .dataframe thead th {\n",
              "        text-align: right;\n",
              "    }\n",
              "</style>\n",
              "<table border=\"1\" class=\"dataframe\">\n",
              "  <thead>\n",
              "    <tr style=\"text-align: right;\">\n",
              "      <th></th>\n",
              "      <th></th>\n",
              "      <th>x1</th>\n",
              "      <th>x2</th>\n",
              "      <th>x3</th>\n",
              "      <th>e</th>\n",
              "      <th>Y</th>\n",
              "    </tr>\n",
              "    <tr>\n",
              "      <th>rep</th>\n",
              "      <th>index</th>\n",
              "      <th></th>\n",
              "      <th></th>\n",
              "      <th></th>\n",
              "      <th></th>\n",
              "      <th></th>\n",
              "    </tr>\n",
              "  </thead>\n",
              "  <tbody>\n",
              "    <tr>\n",
              "      <th rowspan=\"5\" valign=\"top\">0.0</th>\n",
              "      <th>0.0</th>\n",
              "      <td>61.908199</td>\n",
              "      <td>91.731102</td>\n",
              "      <td>40.614820</td>\n",
              "      <td>-0.194085</td>\n",
              "      <td>204.060036</td>\n",
              "    </tr>\n",
              "    <tr>\n",
              "      <th>1.0</th>\n",
              "      <td>57.638887</td>\n",
              "      <td>20.417849</td>\n",
              "      <td>44.163305</td>\n",
              "      <td>-0.370413</td>\n",
              "      <td>131.849628</td>\n",
              "    </tr>\n",
              "    <tr>\n",
              "      <th>2.0</th>\n",
              "      <td>55.986219</td>\n",
              "      <td>23.666537</td>\n",
              "      <td>20.130770</td>\n",
              "      <td>-1.343772</td>\n",
              "      <td>108.439754</td>\n",
              "    </tr>\n",
              "    <tr>\n",
              "      <th>3.0</th>\n",
              "      <td>25.502512</td>\n",
              "      <td>76.492261</td>\n",
              "      <td>98.118848</td>\n",
              "      <td>0.260503</td>\n",
              "      <td>210.374124</td>\n",
              "    </tr>\n",
              "    <tr>\n",
              "      <th>4.0</th>\n",
              "      <td>54.240258</td>\n",
              "      <td>35.049416</td>\n",
              "      <td>39.725720</td>\n",
              "      <td>-0.677564</td>\n",
              "      <td>138.337829</td>\n",
              "    </tr>\n",
              "    <tr>\n",
              "      <th>...</th>\n",
              "      <th>...</th>\n",
              "      <td>...</td>\n",
              "      <td>...</td>\n",
              "      <td>...</td>\n",
              "      <td>...</td>\n",
              "      <td>...</td>\n",
              "    </tr>\n",
              "    <tr>\n",
              "      <th rowspan=\"5\" valign=\"top\">999.0</th>\n",
              "      <th>245.0</th>\n",
              "      <td>24.189705</td>\n",
              "      <td>33.568512</td>\n",
              "      <td>21.636273</td>\n",
              "      <td>1.503925</td>\n",
              "      <td>90.898415</td>\n",
              "    </tr>\n",
              "    <tr>\n",
              "      <th>246.0</th>\n",
              "      <td>52.425819</td>\n",
              "      <td>85.403674</td>\n",
              "      <td>70.475496</td>\n",
              "      <td>-0.110880</td>\n",
              "      <td>218.194109</td>\n",
              "    </tr>\n",
              "    <tr>\n",
              "      <th>247.0</th>\n",
              "      <td>66.253981</td>\n",
              "      <td>55.626206</td>\n",
              "      <td>30.520548</td>\n",
              "      <td>0.664740</td>\n",
              "      <td>163.065476</td>\n",
              "    </tr>\n",
              "    <tr>\n",
              "      <th>248.0</th>\n",
              "      <td>67.149902</td>\n",
              "      <td>89.520277</td>\n",
              "      <td>69.112220</td>\n",
              "      <td>-0.450459</td>\n",
              "      <td>235.331939</td>\n",
              "    </tr>\n",
              "    <tr>\n",
              "      <th>249.0</th>\n",
              "      <td>58.741660</td>\n",
              "      <td>94.768658</td>\n",
              "      <td>53.051673</td>\n",
              "      <td>1.428260</td>\n",
              "      <td>217.990251</td>\n",
              "    </tr>\n",
              "  </tbody>\n",
              "</table>\n",
              "<p>250000 rows × 5 columns</p>\n",
              "</div>"
            ],
            "text/plain": [
              "                    x1         x2         x3         e           Y\n",
              "rep   index                                                       \n",
              "0.0   0.0    61.908199  91.731102  40.614820 -0.194085  204.060036\n",
              "      1.0    57.638887  20.417849  44.163305 -0.370413  131.849628\n",
              "      2.0    55.986219  23.666537  20.130770 -1.343772  108.439754\n",
              "      3.0    25.502512  76.492261  98.118848  0.260503  210.374124\n",
              "      4.0    54.240258  35.049416  39.725720 -0.677564  138.337829\n",
              "...                ...        ...        ...       ...         ...\n",
              "999.0 245.0  24.189705  33.568512  21.636273  1.503925   90.898415\n",
              "      246.0  52.425819  85.403674  70.475496 -0.110880  218.194109\n",
              "      247.0  66.253981  55.626206  30.520548  0.664740  163.065476\n",
              "      248.0  67.149902  89.520277  69.112220 -0.450459  235.331939\n",
              "      249.0  58.741660  94.768658  53.051673  1.428260  217.990251\n",
              "\n",
              "[250000 rows x 5 columns]"
            ]
          },
          "metadata": {},
          "execution_count": 55
        }
      ]
    },
    {
      "cell_type": "code",
      "metadata": {
        "colab": {
          "base_uri": "https://localhost:8080/",
          "height": 455
        },
        "id": "C1Er6PdKe1yN",
        "outputId": "5a482367-db7a-4a82-8935-5878bf121eed"
      },
      "source": [
        "x = table_data_all[[\"x1\", \"x2\", \"x3\",]]\n",
        "y = table_data_all[\"Y\"]\n",
        "x = sm.add_constant(x)\n",
        "model = sm.OLS(y, x).fit()\n",
        "y_pred = model.predict(x)\n",
        "\n",
        "df = pd.DataFrame({\"Actual\": y, \"Predicted\": y_pred})\n",
        "\n",
        "table_data_new = pd.DataFrame({\"x1\"   : table_data_all[\"x1\"],\n",
        "                               \"x2\"   : table_data_all[\"x2\"],\n",
        "                               \"x3\"   : table_data_all[\"x3\"],\n",
        "                               \"e\"     : table_data_all[\"e\"],\n",
        "                               \"Y\"     : df[\"Actual\"],\n",
        "                               \"y_hat\" : df[\"Predicted\"]})\n",
        "table_data_new[\"e_hat\"] = table_data_new[\"Y\"] - table_data_new[\"y_hat\"]\n",
        "table_data_new"
      ],
      "execution_count": 56,
      "outputs": [
        {
          "output_type": "execute_result",
          "data": {
            "text/html": [
              "<div>\n",
              "<style scoped>\n",
              "    .dataframe tbody tr th:only-of-type {\n",
              "        vertical-align: middle;\n",
              "    }\n",
              "\n",
              "    .dataframe tbody tr th {\n",
              "        vertical-align: top;\n",
              "    }\n",
              "\n",
              "    .dataframe thead th {\n",
              "        text-align: right;\n",
              "    }\n",
              "</style>\n",
              "<table border=\"1\" class=\"dataframe\">\n",
              "  <thead>\n",
              "    <tr style=\"text-align: right;\">\n",
              "      <th></th>\n",
              "      <th></th>\n",
              "      <th>x1</th>\n",
              "      <th>x2</th>\n",
              "      <th>x3</th>\n",
              "      <th>e</th>\n",
              "      <th>Y</th>\n",
              "      <th>y_hat</th>\n",
              "      <th>e_hat</th>\n",
              "    </tr>\n",
              "    <tr>\n",
              "      <th>rep</th>\n",
              "      <th>index</th>\n",
              "      <th></th>\n",
              "      <th></th>\n",
              "      <th></th>\n",
              "      <th></th>\n",
              "      <th></th>\n",
              "      <th></th>\n",
              "      <th></th>\n",
              "    </tr>\n",
              "  </thead>\n",
              "  <tbody>\n",
              "    <tr>\n",
              "      <th rowspan=\"5\" valign=\"top\">0.0</th>\n",
              "      <th>0.0</th>\n",
              "      <td>61.908199</td>\n",
              "      <td>91.731102</td>\n",
              "      <td>40.614820</td>\n",
              "      <td>-0.194085</td>\n",
              "      <td>204.060036</td>\n",
              "      <td>204.258132</td>\n",
              "      <td>-0.198096</td>\n",
              "    </tr>\n",
              "    <tr>\n",
              "      <th>1.0</th>\n",
              "      <td>57.638887</td>\n",
              "      <td>20.417849</td>\n",
              "      <td>44.163305</td>\n",
              "      <td>-0.370413</td>\n",
              "      <td>131.849628</td>\n",
              "      <td>132.222756</td>\n",
              "      <td>-0.373129</td>\n",
              "    </tr>\n",
              "    <tr>\n",
              "      <th>2.0</th>\n",
              "      <td>55.986219</td>\n",
              "      <td>23.666537</td>\n",
              "      <td>20.130770</td>\n",
              "      <td>-1.343772</td>\n",
              "      <td>108.439754</td>\n",
              "      <td>109.783988</td>\n",
              "      <td>-1.344234</td>\n",
              "    </tr>\n",
              "    <tr>\n",
              "      <th>3.0</th>\n",
              "      <td>25.502512</td>\n",
              "      <td>76.492261</td>\n",
              "      <td>98.118848</td>\n",
              "      <td>0.260503</td>\n",
              "      <td>210.374124</td>\n",
              "      <td>210.125315</td>\n",
              "      <td>0.248809</td>\n",
              "    </tr>\n",
              "    <tr>\n",
              "      <th>4.0</th>\n",
              "      <td>54.240258</td>\n",
              "      <td>35.049416</td>\n",
              "      <td>39.725720</td>\n",
              "      <td>-0.677564</td>\n",
              "      <td>138.337829</td>\n",
              "      <td>139.018262</td>\n",
              "      <td>-0.680433</td>\n",
              "    </tr>\n",
              "    <tr>\n",
              "      <th>...</th>\n",
              "      <th>...</th>\n",
              "      <td>...</td>\n",
              "      <td>...</td>\n",
              "      <td>...</td>\n",
              "      <td>...</td>\n",
              "      <td>...</td>\n",
              "      <td>...</td>\n",
              "      <td>...</td>\n",
              "    </tr>\n",
              "    <tr>\n",
              "      <th rowspan=\"5\" valign=\"top\">999.0</th>\n",
              "      <th>245.0</th>\n",
              "      <td>24.189705</td>\n",
              "      <td>33.568512</td>\n",
              "      <td>21.636273</td>\n",
              "      <td>1.503925</td>\n",
              "      <td>90.898415</td>\n",
              "      <td>89.397334</td>\n",
              "      <td>1.501080</td>\n",
              "    </tr>\n",
              "    <tr>\n",
              "      <th>246.0</th>\n",
              "      <td>52.425819</td>\n",
              "      <td>85.403674</td>\n",
              "      <td>70.475496</td>\n",
              "      <td>-0.110880</td>\n",
              "      <td>218.194109</td>\n",
              "      <td>218.312450</td>\n",
              "      <td>-0.118342</td>\n",
              "    </tr>\n",
              "    <tr>\n",
              "      <th>247.0</th>\n",
              "      <td>66.253981</td>\n",
              "      <td>55.626206</td>\n",
              "      <td>30.520548</td>\n",
              "      <td>0.664740</td>\n",
              "      <td>163.065476</td>\n",
              "      <td>162.402480</td>\n",
              "      <td>0.662996</td>\n",
              "    </tr>\n",
              "    <tr>\n",
              "      <th>248.0</th>\n",
              "      <td>67.149902</td>\n",
              "      <td>89.520277</td>\n",
              "      <td>69.112220</td>\n",
              "      <td>-0.450459</td>\n",
              "      <td>235.331939</td>\n",
              "      <td>235.788923</td>\n",
              "      <td>-0.456984</td>\n",
              "    </tr>\n",
              "    <tr>\n",
              "      <th>249.0</th>\n",
              "      <td>58.741660</td>\n",
              "      <td>94.768658</td>\n",
              "      <td>53.051673</td>\n",
              "      <td>1.428260</td>\n",
              "      <td>217.990251</td>\n",
              "      <td>216.567543</td>\n",
              "      <td>1.422708</td>\n",
              "    </tr>\n",
              "  </tbody>\n",
              "</table>\n",
              "<p>250000 rows × 7 columns</p>\n",
              "</div>"
            ],
            "text/plain": [
              "                    x1         x2         x3  ...           Y       y_hat     e_hat\n",
              "rep   index                                   ...                                  \n",
              "0.0   0.0    61.908199  91.731102  40.614820  ...  204.060036  204.258132 -0.198096\n",
              "      1.0    57.638887  20.417849  44.163305  ...  131.849628  132.222756 -0.373129\n",
              "      2.0    55.986219  23.666537  20.130770  ...  108.439754  109.783988 -1.344234\n",
              "      3.0    25.502512  76.492261  98.118848  ...  210.374124  210.125315  0.248809\n",
              "      4.0    54.240258  35.049416  39.725720  ...  138.337829  139.018262 -0.680433\n",
              "...                ...        ...        ...  ...         ...         ...       ...\n",
              "999.0 245.0  24.189705  33.568512  21.636273  ...   90.898415   89.397334  1.501080\n",
              "      246.0  52.425819  85.403674  70.475496  ...  218.194109  218.312450 -0.118342\n",
              "      247.0  66.253981  55.626206  30.520548  ...  163.065476  162.402480  0.662996\n",
              "      248.0  67.149902  89.520277  69.112220  ...  235.331939  235.788923 -0.456984\n",
              "      249.0  58.741660  94.768658  53.051673  ...  217.990251  216.567543  1.422708\n",
              "\n",
              "[250000 rows x 7 columns]"
            ]
          },
          "metadata": {},
          "execution_count": 56
        }
      ]
    },
    {
      "cell_type": "code",
      "metadata": {
        "colab": {
          "base_uri": "https://localhost:8080/",
          "height": 17
        },
        "id": "89B3jo__e1s5",
        "outputId": "9282e267-ad6c-4269-c48a-35402a557fb1"
      },
      "source": [
        "table_data_new.to_csv(\"data_var3_random1_n250.csv\")\n",
        "files.download(\"data_var3_random1_n250.csv\")"
      ],
      "execution_count": 57,
      "outputs": [
        {
          "output_type": "display_data",
          "data": {
            "application/javascript": [
              "\n",
              "    async function download(id, filename, size) {\n",
              "      if (!google.colab.kernel.accessAllowed) {\n",
              "        return;\n",
              "      }\n",
              "      const div = document.createElement('div');\n",
              "      const label = document.createElement('label');\n",
              "      label.textContent = `Downloading \"${filename}\": `;\n",
              "      div.appendChild(label);\n",
              "      const progress = document.createElement('progress');\n",
              "      progress.max = size;\n",
              "      div.appendChild(progress);\n",
              "      document.body.appendChild(div);\n",
              "\n",
              "      const buffers = [];\n",
              "      let downloaded = 0;\n",
              "\n",
              "      const channel = await google.colab.kernel.comms.open(id);\n",
              "      // Send a message to notify the kernel that we're ready.\n",
              "      channel.send({})\n",
              "\n",
              "      for await (const message of channel.messages) {\n",
              "        // Send a message to notify the kernel that we're ready.\n",
              "        channel.send({})\n",
              "        if (message.buffers) {\n",
              "          for (const buffer of message.buffers) {\n",
              "            buffers.push(buffer);\n",
              "            downloaded += buffer.byteLength;\n",
              "            progress.value = downloaded;\n",
              "          }\n",
              "        }\n",
              "      }\n",
              "      const blob = new Blob(buffers, {type: 'application/binary'});\n",
              "      const a = document.createElement('a');\n",
              "      a.href = window.URL.createObjectURL(blob);\n",
              "      a.download = filename;\n",
              "      div.appendChild(a);\n",
              "      a.click();\n",
              "      div.remove();\n",
              "    }\n",
              "  "
            ],
            "text/plain": [
              "<IPython.core.display.Javascript object>"
            ]
          },
          "metadata": {}
        },
        {
          "output_type": "display_data",
          "data": {
            "application/javascript": [
              "download(\"download_0f62a80b-8e23-40bf-85bc-a253b80a83ec\", \"data_var3_random1_n250.csv\", 35590703)"
            ],
            "text/plain": [
              "<IPython.core.display.Javascript object>"
            ]
          },
          "metadata": {}
        }
      ]
    },
    {
      "cell_type": "code",
      "metadata": {
        "colab": {
          "base_uri": "https://localhost:8080/",
          "height": 1000
        },
        "id": "2GtRAC0wlB39",
        "outputId": "711a3f62-7782-4a91-842a-54f397f06353"
      },
      "source": [
        "table_data_new.plot(x ='y_hat', y='e_hat', kind = 'scatter')\n",
        "table_data_new.plot(x ='x1', y='e_hat', kind = 'scatter')\n",
        "table_data_new.plot(x ='x2', y='e_hat', kind = 'scatter')\n",
        "table_data_new.plot(x ='x3', y='e_hat', kind = 'scatter')"
      ],
      "execution_count": 20,
      "outputs": [
        {
          "output_type": "execute_result",
          "data": {
            "text/plain": [
              "<matplotlib.axes._subplots.AxesSubplot at 0x7f50cbd1dad0>"
            ]
          },
          "metadata": {},
          "execution_count": 20
        },
        {
          "output_type": "display_data",
          "data": {
            "image/png": "[encoded data removed]",
            "text/plain": [
              "<Figure size 432x288 with 1 Axes>"
            ]
          },
          "metadata": {
            "needs_background": "light"
          }
        },
        {
          "output_type": "display_data",
          "data": {
            "image/png": "[encoded data removed]",
            "text/plain": [
              "<Figure size 432x288 with 1 Axes>"
            ]
          },
          "metadata": {
            "needs_background": "light"
          }
        },
        {
          "output_type": "display_data",
          "data": {
            "image/png": "[encoded data removed]",
            "text/plain": [
              "<Figure size 432x288 with 1 Axes>"
            ]
          },
          "metadata": {
            "needs_background": "light"
          }
        },
        {
          "output_type": "display_data",
          "data": {
            "image/png": "[encoded data removed]",
            "text/plain": [
              "<Figure size 432x288 with 1 Axes>"
            ]
          },
          "metadata": {
            "needs_background": "light"
          }
        }
      ]
    }
  ]
}